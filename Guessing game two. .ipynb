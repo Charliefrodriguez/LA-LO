{
 "cells": [
  {
   "cell_type": "code",
   "execution_count": 2,
   "metadata": {},
   "outputs": [
    {
     "name": "stdout",
     "output_type": "stream",
     "text": [
      "would you like to play the guessing game? yes\n",
      "Think of a number between 1 and 100 \n",
      "tell me if my guess is correct\n",
      "Is this the right number: yes\n",
      "I won in  1  guess(es)\n"
     ]
    }
   ],
   "source": [
    "from random import randint\n",
    "\n",
    "offer = input('would you like to play the guessing game? ')\n",
    "\n",
    "print('Think of a number between 1 and 100 ')    \n",
    "\n",
    "print('tell me if my guess is correct')\n",
    "i = 0 \n",
    "val_list = list(range(1,101)) # acts as an ordered list for binary search to sort through\n",
    "while True:\n",
    "\n",
    "    i = i + 1 # guess counter \n",
    "    \n",
    "    user_ans = input('Is this the right number: ')\n",
    "\n",
    "    if user_ans == 'yes': \n",
    "        print('I won in ',i,' guess(es)') \n",
    "        break \n",
    "    \n",
    "    elif user_ans == 'too high':  \n",
    "        val_list = val_list[:int(len(val_list)/2)] # this is the binary search method\n",
    "        guess = mid_val(val_list) # assigning val_list a smaller range \n",
    "                        #mid_val is a function that finds middle value in the list \n",
    "                        # this new middle value is outputed as our guess\n",
    "       \n",
    "    elif user_ans == 'too low': \n",
    "        val_list = val_list[int(len(val_list)/2+1):] # same process applied here \n",
    "        guess  = mid_val(val_list)\n",
    "        \n"
   ]
  },
  {
   "cell_type": "code",
   "execution_count": null,
   "metadata": {},
   "outputs": [],
   "source": [
    "a = list(range(1,101)) \n",
    "def mid_val(a):\n",
    "    mid = a[int(len(a)/2)]  \n",
    "    print(mid)"
   ]
  },
  {
   "cell_type": "code",
   "execution_count": null,
   "metadata": {},
   "outputs": [],
   "source": [
    "def binary_search(arr,val): \n",
    "    mid = arr[int(len(arr)/2)] \n",
    "   \n",
    "    if val == mid: \n",
    "        return True \n",
    "    if val < mid: \n",
    "        return binary_search(arr[:int(len(arr)/2)],val) \n",
    "    if val > mid: \n",
    "        return binary_search(arr[int(len(arr)/(2)+1):],val)\n",
    "    "
   ]
  },
  {
   "cell_type": "code",
   "execution_count": null,
   "metadata": {},
   "outputs": [],
   "source": [
    "binary_search([2,3,4,5,6],2)"
   ]
  },
  {
   "cell_type": "code",
   "execution_count": null,
   "metadata": {},
   "outputs": [],
   "source": []
  }
 ],
 "metadata": {
  "kernelspec": {
   "display_name": "Python 3",
   "language": "python",
   "name": "python3"
  },
  "language_info": {
   "codemirror_mode": {
    "name": "ipython",
    "version": 3
   },
   "file_extension": ".py",
   "mimetype": "text/x-python",
   "name": "python",
   "nbconvert_exporter": "python",
   "pygments_lexer": "ipython3",
   "version": "3.6.5"
  }
 },
 "nbformat": 4,
 "nbformat_minor": 2
}
