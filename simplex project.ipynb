{
 "cells": [
  {
   "cell_type": "code",
   "execution_count": 98,
   "metadata": {},
   "outputs": [
    {
     "name": "stdout",
     "output_type": "stream",
     "text": [
      "[1, 3, 1]\n"
     ]
    }
   ],
   "source": [
    "tab= np.array([[1,0,3],[2,3,2],[3,1,1]])  \n",
    "d = [] \n",
    "for i in range(len(tab)): \n",
    "    d+= [tab[i][i]] \n",
    "print(d)\n",
    "#lp(d)\n",
    "        "
   ]
  },
  {
   "cell_type": "code",
   "execution_count": 99,
   "metadata": {},
   "outputs": [
    {
     "name": "stdout",
     "output_type": "stream",
     "text": [
      "1\n",
      "2\n",
      "3\n"
     ]
    },
    {
     "data": {
      "text/plain": [
       "array([1, 2, 3])"
      ]
     },
     "execution_count": 99,
     "metadata": {},
     "output_type": "execute_result"
    }
   ],
   "source": [
    "import numpy as np\n",
    "#tab= np.array([[1,0,0],[1,1,1],[0,1,1]]) \n",
    "x= -1*tab[0]+tab[1] \n",
    "# newa= np.array(tab[0],x,tab[2]) \n",
    "#print(x)  \n",
    "-tab[1][0]\n",
    "#print(tab)  \n",
    "#len(tab)\n",
    "print(tab[0][0] )\n",
    "print(tab[1][0] )\n",
    "print(tab[2][0]) \n",
    "tab[:,0] # how to index columns in python "
   ]
  },
  {
   "cell_type": "code",
   "execution_count": 100,
   "metadata": {},
   "outputs": [],
   "source": [
    "def mtrace(matrix): \n",
    "    d = [] \n",
    "    for i in range(len(matrix)): \n",
    "            d+= [matrix[i][i]] # collects components of diagonal in a vector \n",
    "    #print(d)\n",
    "    lp(d) # sums the components of the diagonal"
   ]
  },
  {
   "cell_type": "code",
   "execution_count": 101,
   "metadata": {},
   "outputs": [
    {
     "name": "stdout",
     "output_type": "stream",
     "text": [
      "36\n"
     ]
    }
   ],
   "source": [
    "#alist=[1,2,3,5,2,5] \n",
    "#def lp(a):\n",
    "a=[1,2,3,3,2]\n",
    "for i in range(len(a)): \n",
    "    if i+1 > len(a)-1: \n",
    "        break \n",
    "    else: \n",
    "        prod= a[i]*a[i+1] #sums to components of a list\n",
    "        a[i+1]=prod # replaces the next component of list with previous product \n",
    "         \n",
    "print(prod) "
   ]
  },
  {
   "cell_type": "code",
   "execution_count": 102,
   "metadata": {},
   "outputs": [],
   "source": [
    "def lp(a):   #list product\n",
    "    for i in range(len(a)): \n",
    "        if i+1 > len(a)-1: \n",
    "            break \n",
    "        else: \n",
    "            prod= a[i]*a[i+1]\n",
    "            a[i+1]=prod \n",
    "             #return prod\n",
    "    print(prod) "
   ]
  },
  {
   "cell_type": "code",
   "execution_count": 103,
   "metadata": {},
   "outputs": [
    {
     "name": "stdout",
     "output_type": "stream",
     "text": [
      "[[ 1.  2.  5.]\n",
      " [ 0.  0. -2.]\n",
      " [ 0.  0.  0.]]\n"
     ]
    }
   ],
   "source": [
    "\n",
    "happy= np.array([[1.,2,5],[1,2,3],[0,0,0]]) \n",
    "#x= -1*tab[0]+tab[1] we are going to try to build this for square matrices\n",
    "# newa= np.array(tab[0],x,tab[2]) \n",
    "# print(x)  \n",
    "#tab[1]=x \n",
    "#print(tab) \n",
    "for i in range(len(happy)):\n",
    "    if i is not 0 and happy[i][i]  is not 0: # conditions for loop for pivot \n",
    "           happy[i]= -happy[i][0]*happy[0]+happy[i]  #does row operations to create pivot \n",
    "\n",
    "\n",
    "print(happy) \n",
    "            \n",
    "        \n",
    "\n"
   ]
  },
  {
   "cell_type": "code",
   "execution_count": 104,
   "metadata": {},
   "outputs": [
    {
     "ename": "IndexError",
     "evalue": "tuple index out of range",
     "output_type": "error",
     "traceback": [
      "\u001b[0;31m---------------------------------------------------------------------------\u001b[0m",
      "\u001b[0;31mIndexError\u001b[0m                                Traceback (most recent call last)",
      "\u001b[0;32m<ipython-input-104-959622d66b97>\u001b[0m in \u001b[0;36m<module>\u001b[0;34m()\u001b[0m\n\u001b[1;32m      4\u001b[0m \u001b[0;34m\u001b[0m\u001b[0m\n\u001b[1;32m      5\u001b[0m \u001b[0mhappy\u001b[0m\u001b[0;34m=\u001b[0m \u001b[0mnp\u001b[0m\u001b[0;34m.\u001b[0m\u001b[0marray\u001b[0m\u001b[0;34m(\u001b[0m\u001b[0;34m[\u001b[0m\u001b[0;34m[\u001b[0m\u001b[0;36m1.\u001b[0m\u001b[0;34m,\u001b[0m\u001b[0;36m2\u001b[0m\u001b[0;34m,\u001b[0m\u001b[0;36m5\u001b[0m\u001b[0;34m,\u001b[0m\u001b[0;36m4\u001b[0m\u001b[0;34m]\u001b[0m\u001b[0;34m,\u001b[0m\u001b[0;34m[\u001b[0m\u001b[0;36m3\u001b[0m\u001b[0;34m,\u001b[0m\u001b[0;36m2\u001b[0m\u001b[0;34m,\u001b[0m\u001b[0;36m4\u001b[0m\u001b[0;34m,\u001b[0m\u001b[0;36m3\u001b[0m\u001b[0;34m]\u001b[0m\u001b[0;34m,\u001b[0m\u001b[0;34m[\u001b[0m\u001b[0;36m3\u001b[0m\u001b[0;34m,\u001b[0m\u001b[0;36m7\u001b[0m\u001b[0;34m,\u001b[0m\u001b[0;36m5\u001b[0m\u001b[0;34m,\u001b[0m\u001b[0;36m7\u001b[0m\u001b[0;34m]\u001b[0m\u001b[0;34m,\u001b[0m\u001b[0;34m[\u001b[0m\u001b[0;36m2\u001b[0m\u001b[0;34m,\u001b[0m\u001b[0;36m3\u001b[0m\u001b[0;34m,\u001b[0m\u001b[0;36m1\u001b[0m\u001b[0;34m,\u001b[0m\u001b[0;36m9\u001b[0m\u001b[0;34m,\u001b[0m\u001b[0;36m8\u001b[0m\u001b[0;34m]\u001b[0m\u001b[0;34m,\u001b[0m\u001b[0;34m[\u001b[0m\u001b[0;36m4\u001b[0m\u001b[0;34m,\u001b[0m\u001b[0;36m3\u001b[0m\u001b[0;34m,\u001b[0m\u001b[0;36m2\u001b[0m\u001b[0;34m,\u001b[0m\u001b[0;36m1\u001b[0m\u001b[0;34m]\u001b[0m\u001b[0;34m]\u001b[0m\u001b[0;34m)\u001b[0m\u001b[0;34m\u001b[0m\u001b[0m\n\u001b[0;32m----> 6\u001b[0;31m \u001b[0;32mfor\u001b[0m \u001b[0mj\u001b[0m \u001b[0;32min\u001b[0m \u001b[0mrange\u001b[0m\u001b[0;34m(\u001b[0m\u001b[0mhappy\u001b[0m\u001b[0;34m.\u001b[0m\u001b[0mshape\u001b[0m\u001b[0;34m[\u001b[0m\u001b[0;36m1\u001b[0m\u001b[0;34m]\u001b[0m\u001b[0;34m)\u001b[0m\u001b[0;34m:\u001b[0m \u001b[0;31m# shape gets propper j goes over cols\u001b[0m\u001b[0;34m\u001b[0m\u001b[0m\n\u001b[0m\u001b[1;32m      7\u001b[0m     \u001b[0;32mfor\u001b[0m \u001b[0mi\u001b[0m \u001b[0;32min\u001b[0m \u001b[0mrange\u001b[0m\u001b[0;34m(\u001b[0m\u001b[0mhappy\u001b[0m\u001b[0;34m.\u001b[0m\u001b[0mshape\u001b[0m\u001b[0;34m[\u001b[0m\u001b[0;36m0\u001b[0m\u001b[0;34m]\u001b[0m\u001b[0;34m)\u001b[0m\u001b[0;34m:\u001b[0m  \u001b[0;31m# i goes over rows\u001b[0m\u001b[0;34m\u001b[0m\u001b[0m\n\u001b[1;32m      8\u001b[0m         \u001b[0;32mif\u001b[0m \u001b[0mi\u001b[0m \u001b[0;32mis\u001b[0m \u001b[0;32mnot\u001b[0m \u001b[0mj\u001b[0m \u001b[0;34m:\u001b[0m    \u001b[0;31m# screens out the pivot positions\u001b[0m\u001b[0;34m\u001b[0m\u001b[0m\n",
      "\u001b[0;31mIndexError\u001b[0m: tuple index out of range"
     ]
    }
   ],
   "source": [
    "#falls apart rn for casses with bad zero placement, specifically zero in pivot \n",
    "# need to always keep track of types being passed in only need one float in matrix for it  \n",
    "# to work \n",
    "\n",
    "happy= np.array([[1.,2,5,4],[3,2,4,3],[3,7,5,7],[2,3,1,9,8],[4,3,2,1]]) \n",
    "for j in range(happy.shape[1]): # shape gets propper j goes over cols\n",
    "    for i in range(happy.shape[0]):  # i goes over rows\n",
    "        if i is not j :    # screens out the pivot positions\n",
    "                if happy[j][j] == 0: \n",
    "                    if happy[j][j] == 0 and j == len(happy)-1:# termination of last 0 pivot\n",
    "                        break \n",
    "                    for k in range(len(happy[:,j])):  \n",
    "                        if happy[:,j][k] is  0: \n",
    "                            break \n",
    "                        \n",
    "                        elif happy[:,j][k] is not 0 and k > j: \n",
    "                            happy[[j,k]] = happy[[k,j]] # swaps two rows acts as row operations\n",
    "                           # print(happy) \n",
    "\n",
    "                happy[j] = happy[j]/happy[j][j] # creates the pivots for each col\n",
    "                \n",
    "                happy[i]= -happy[i][j]*happy[j] + happy[i] # performs the row operations\n",
    "                print(happy)\n",
    "                \n",
    "           "
   ]
  },
  {
   "cell_type": "code",
   "execution_count": 105,
   "metadata": {},
   "outputs": [],
   "source": [
    "#this sort of works pretty well compute rref form a square matrix\n",
    "def rref(m): \n",
    "    for j in range(m.shape[1]):\n",
    "        for i in range(m.shape[0]): \n",
    "            if i is not j :    \n",
    "                    if m[j][j] == 0: \n",
    "                        if m[j][j] == 0 and j == len(m)-1: # termination of last 0 pivot\n",
    "                            break \n",
    "                        for k in range(len(m[:,j])):  \n",
    "                            if m[:,j][k] is  0: \n",
    "                                continue \n",
    "                        \n",
    "                            elif m[:,j][k] is not 0 and k > j: \n",
    "                                m[[j,k]] = m[[k,j]] # swaps two rows acts as row operations\n",
    "                            \n",
    "                                print(m) \n",
    "                    m[j] = m[j]/m[j][j] \n",
    "                \n",
    "                    m[i]= -m[i][j]*m[j] + m[i]\n",
    "                    print(m)\n",
    "                \n",
    "        print(m)"
   ]
  },
  {
   "cell_type": "code",
   "execution_count": 135,
   "metadata": {},
   "outputs": [
    {
     "name": "stdout",
     "output_type": "stream",
     "text": [
      "[[0. 0. 0.]\n",
      " [0. 0. 0.]\n",
      " [0. 0. 0.]]\n"
     ]
    },
    {
     "ename": "IndexError",
     "evalue": "index 3 is out of bounds for axis 0 with size 3",
     "output_type": "error",
     "traceback": [
      "\u001b[0;31m---------------------------------------------------------------------------\u001b[0m",
      "\u001b[0;31mIndexError\u001b[0m                                Traceback (most recent call last)",
      "\u001b[0;32m<ipython-input-135-29716b796ddc>\u001b[0m in \u001b[0;36m<module>\u001b[0;34m()\u001b[0m\n\u001b[1;32m     14\u001b[0m                 \u001b[0;32mif\u001b[0m \u001b[0mhappy\u001b[0m\u001b[0;34m[\u001b[0m\u001b[0mj\u001b[0m\u001b[0;34m]\u001b[0m\u001b[0;34m[\u001b[0m\u001b[0mj\u001b[0m\u001b[0;34m]\u001b[0m \u001b[0;34m==\u001b[0m \u001b[0;36m0\u001b[0m \u001b[0;34m:\u001b[0m\u001b[0;34m\u001b[0m\u001b[0m\n\u001b[1;32m     15\u001b[0m                     \u001b[0;32mif\u001b[0m \u001b[0mhappy\u001b[0m\u001b[0;34m[\u001b[0m\u001b[0mj\u001b[0m\u001b[0;34m]\u001b[0m\u001b[0;34m[\u001b[0m\u001b[0mj\u001b[0m\u001b[0;34m]\u001b[0m \u001b[0;34m==\u001b[0m \u001b[0;36m0\u001b[0m \u001b[0;32mand\u001b[0m \u001b[0mj\u001b[0m \u001b[0;34m==\u001b[0m \u001b[0mlen\u001b[0m\u001b[0;34m(\u001b[0m\u001b[0mhappy\u001b[0m\u001b[0;34m)\u001b[0m\u001b[0;34m-\u001b[0m\u001b[0;36m1\u001b[0m\u001b[0;34m:\u001b[0m\u001b[0;31m# termination of last 0 pivot\u001b[0m\u001b[0;34m\u001b[0m\u001b[0m\n\u001b[0;32m---> 16\u001b[0;31m                         \u001b[0;32mif\u001b[0m \u001b[0mhappy\u001b[0m\u001b[0;34m[\u001b[0m\u001b[0mj\u001b[0m\u001b[0;34m]\u001b[0m\u001b[0;34m[\u001b[0m\u001b[0mj\u001b[0m\u001b[0;34m+\u001b[0m\u001b[0;36m1\u001b[0m\u001b[0;34m]\u001b[0m \u001b[0;32mis\u001b[0m \u001b[0;32mnot\u001b[0m \u001b[0;36m0\u001b[0m\u001b[0;34m:\u001b[0m\u001b[0;34m\u001b[0m\u001b[0m\n\u001b[0m\u001b[1;32m     17\u001b[0m                             \u001b[0mhappy\u001b[0m\u001b[0;34m[\u001b[0m\u001b[0mj\u001b[0m\u001b[0;34m]\u001b[0m \u001b[0;34m=\u001b[0m \u001b[0mhappy\u001b[0m\u001b[0;34m[\u001b[0m\u001b[0mj\u001b[0m\u001b[0;34m]\u001b[0m\u001b[0;34m/\u001b[0m\u001b[0mhappy\u001b[0m\u001b[0;34m[\u001b[0m\u001b[0mj\u001b[0m\u001b[0;34m]\u001b[0m\u001b[0;34m[\u001b[0m\u001b[0mj\u001b[0m\u001b[0;34m+\u001b[0m\u001b[0;36m1\u001b[0m\u001b[0;34m]\u001b[0m\u001b[0;34m\u001b[0m\u001b[0m\n\u001b[1;32m     18\u001b[0m                             \u001b[0mhappy\u001b[0m\u001b[0;34m[\u001b[0m\u001b[0mi\u001b[0m\u001b[0;34m+\u001b[0m\u001b[0;36m1\u001b[0m\u001b[0;34m]\u001b[0m\u001b[0;34m=\u001b[0m \u001b[0;34m-\u001b[0m\u001b[0mhappy\u001b[0m\u001b[0;34m[\u001b[0m\u001b[0mi\u001b[0m\u001b[0;34m+\u001b[0m\u001b[0;36m1\u001b[0m\u001b[0;34m]\u001b[0m\u001b[0;34m[\u001b[0m\u001b[0mj\u001b[0m\u001b[0;34m+\u001b[0m\u001b[0;36m1\u001b[0m\u001b[0;34m]\u001b[0m\u001b[0;34m*\u001b[0m\u001b[0mhappy\u001b[0m\u001b[0;34m[\u001b[0m\u001b[0mj\u001b[0m\u001b[0;34m]\u001b[0m \u001b[0;34m+\u001b[0m \u001b[0mhappy\u001b[0m\u001b[0;34m[\u001b[0m\u001b[0mi\u001b[0m\u001b[0;34m+\u001b[0m\u001b[0;36m1\u001b[0m\u001b[0;34m]\u001b[0m\u001b[0;34m\u001b[0m\u001b[0m\n",
      "\u001b[0;31mIndexError\u001b[0m: index 3 is out of bounds for axis 0 with size 3"
     ]
    }
   ],
   "source": [
    "# this version can handle most zeros cases\n",
    "# final issue rn is getting to make sure all pivots exist in case where columns exceed rows\n",
    "\n",
    "happy= np.array([[0.,0,0],[0,0,0],[0,0,0]]) \n",
    "\n",
    "m,n=happy.shape\n",
    "print(happy)\n",
    "if n>m : #takes care of an error case with indices \n",
    "    n=m \n",
    "\n",
    "for j in range(n): # shape gets propper j goes over cols\n",
    "    for i in range(m):  # i goes over rows\n",
    "        if j is not i :    # screens out the pivot positions\n",
    "                if happy[j][j] == 0 : \n",
    "                    if happy[j][j] == 0 and j == len(happy)-1:# termination of last 0 pivot\n",
    "                        if happy[j][j+1] is not 0: \n",
    "                            happy[j] = happy[j]/happy[j][j+1]\n",
    "                            happy[i+1]= -happy[i+1][j+1]*happy[j] + happy[i+1]\n",
    "                            happy[i]= -happy[i][j+1]*happy[j] + happy[i]\n",
    "                            print(happy)\n",
    "                    break \n",
    "                    for k in range(len(happy[:,j])):  \n",
    "                        if happy[:,j][k] is  0: \n",
    "                            break \n",
    "                        \n",
    "                        elif happy[:,j][k] is not 0 and k > j: \n",
    "                            happy[[j,k]] = happy[[k,j]] # swaps two rows acts as row operations\n",
    "                           # print(happy) \n",
    "\n",
    "                happy[j] = happy[j]/happy[j][j] # creates the pivots for each col\n",
    "                \n",
    "                happy[i]= -happy[i][j]*happy[j] + happy[i] # performs the row operations\n",
    "                print(happy)"
   ]
  },
  {
   "cell_type": "code",
   "execution_count": 119,
   "metadata": {},
   "outputs": [
    {
     "data": {
      "text/plain": [
       "(5,)"
      ]
     },
     "execution_count": 119,
     "metadata": {},
     "output_type": "execute_result"
    }
   ],
   "source": [
    "happy.shape"
   ]
  },
  {
   "cell_type": "code",
   "execution_count": 107,
   "metadata": {},
   "outputs": [],
   "source": [
    "#generates an identity matrix \n",
    "def Id(a,b): \n",
    "    I=np.zeros((a,b))\n",
    "    for j in range(I.shape[1]): \n",
    "        I[j][j]=1  \n",
    "    return I\n",
    "    \n",
    "                "
   ]
  },
  {
   "cell_type": "code",
   "execution_count": 108,
   "metadata": {},
   "outputs": [],
   "source": [
    "#canonical form generator  \n",
    "def Can(a): \n",
    "    canonical= np.hstack((a,Id(a.shape[0],a.shape[0])))   \n",
    "    return canonical "
   ]
  },
  {
   "cell_type": "code",
   "execution_count": 109,
   "metadata": {},
   "outputs": [
    {
     "name": "stdout",
     "output_type": "stream",
     "text": [
      "[0.2]\n",
      "[0.2, 0.5]\n",
      "[0.2, 0.5, 0.6]\n"
     ]
    }
   ],
   "source": [
    "r=[]\n",
    "z=np.array([[1.,2,5],[3,2,4],[3,7,5]]) \n",
    "b=np.array([[1.],[2],[3],[0]])\n",
    "o=[-1.,-2,-5,0,0,0] \n",
    "\n",
    "for e in range(3): \n",
    "    r.append(tabl[:,6][e]/tabl[:,2][e])\n",
    "    print(r) "
   ]
  },
  {
   "cell_type": "code",
   "execution_count": 110,
   "metadata": {},
   "outputs": [
    {
     "name": "stdout",
     "output_type": "stream",
     "text": [
      "[1.0, 0.75, 0.5714285714285714]\n"
     ]
    }
   ],
   "source": [
    "g=np.array([[1],[2],[4]])\n",
    "a=[2.,3,4] \n",
    "b=[2.,4,7] \n",
    "r=[]\n",
    "4==a[1]\n",
    "for i in range(3): \n",
    "    r.append(a[i]/b[i]) \n",
    "print(r)"
   ]
  },
  {
   "cell_type": "code",
   "execution_count": 111,
   "metadata": {},
   "outputs": [
    {
     "ename": "AttributeError",
     "evalue": "'numpy.ndarray' object has no attribute 'index'",
     "output_type": "error",
     "traceback": [
      "\u001b[0;31m---------------------------------------------------------------------------\u001b[0m",
      "\u001b[0;31mAttributeError\u001b[0m                            Traceback (most recent call last)",
      "\u001b[0;32m<ipython-input-111-3f13a943a7ff>\u001b[0m in \u001b[0;36m<module>\u001b[0;34m()\u001b[0m\n\u001b[1;32m      1\u001b[0m \u001b[0mtabl\u001b[0m\u001b[0;34m\u001b[0m\u001b[0m\n\u001b[0;32m----> 2\u001b[0;31m \u001b[0mtabl\u001b[0m\u001b[0;34m[\u001b[0m\u001b[0;34m:\u001b[0m\u001b[0mm\u001b[0m\u001b[0;34m-\u001b[0m\u001b[0;36m2\u001b[0m\u001b[0;34m,\u001b[0m\u001b[0mtabl\u001b[0m\u001b[0;34m[\u001b[0m\u001b[0mm\u001b[0m\u001b[0;34m-\u001b[0m\u001b[0;36m2\u001b[0m\u001b[0;34m]\u001b[0m\u001b[0;34m.\u001b[0m\u001b[0mindex\u001b[0m\u001b[0;34m(\u001b[0m\u001b[0mk\u001b[0m\u001b[0;34m)\u001b[0m\u001b[0;34m]\u001b[0m\u001b[0;34m\u001b[0m\u001b[0m\n\u001b[0m",
      "\u001b[0;31mAttributeError\u001b[0m: 'numpy.ndarray' object has no attribute 'index'"
     ]
    }
   ],
   "source": [
    "tabl \n",
    "tabl[:m-2,tabl[m-2].index(k)]"
   ]
  },
  {
   "cell_type": "code",
   "execution_count": 112,
   "metadata": {},
   "outputs": [],
   "source": [
    "def lin(a,b): #gives index of particular entry in list\n",
    "    for i in range(len(a)): \n",
    "        if a[i] == b: \n",
    "            return i"
   ]
  },
  {
   "cell_type": "code",
   "execution_count": 113,
   "metadata": {},
   "outputs": [],
   "source": [
    "# we will use to check if our last row in the tableau is optimal \n",
    "# we can see that if our solution is optimial the product our or nonbasic variables \n",
    "#will be positive. \n",
    "def zs(a): #screens out zeros in product of list \n",
    "    for j in range(len(a)): \n",
    "        if abs(a[j]-0.)<0.00001 : \n",
    "            a[j]=1\n",
    "    print(a)\n",
    "    for i in range(len(a)): \n",
    "        if i+1 > len(a)-1: \n",
    "            break \n",
    "        else: \n",
    "            prod= a[i]*a[i+1]\n",
    "            a[i+1]=prod  \n",
    "    return prod"
   ]
  },
  {
   "cell_type": "code",
   "execution_count": 197,
   "metadata": {},
   "outputs": [
    {
     "name": "stdout",
     "output_type": "stream",
     "text": [
      "[[ 1.  2.  5.  4.  1.  0.  0.  0.  1.]\n",
      " [ 3.  2.  4.  3.  0.  1.  0.  0.  2.]\n",
      " [ 3.  7.  5.  7.  0.  0.  1.  0.  3.]\n",
      " [ 2.  3.  1.  9.  0.  0.  0.  1.  7.]\n",
      " [-3. -4. -1.  0.  0.  0.  0.  0.  0.]]\n",
      "[[ 0.14285714  0.          3.57142857  2.          1.          0.\n",
      "  -0.28571429  0.          0.14285714]\n",
      " [ 3.          2.          4.          3.          0.          1.\n",
      "   0.          0.          2.        ]\n",
      " [ 0.42857143  1.          0.71428571  1.          0.          0.\n",
      "   0.14285714  0.          0.42857143]\n",
      " [ 2.          3.          1.          9.          0.          0.\n",
      "   0.          1.          7.        ]\n",
      " [-3.         -4.         -1.          0.          0.          0.\n",
      "   0.          0.          0.        ]]\n",
      "[[ 0.14285714  0.          3.57142857  2.          1.          0.\n",
      "  -0.28571429  0.          0.14285714]\n",
      " [ 2.14285714  0.          2.57142857  1.          0.          1.\n",
      "  -0.28571429  0.          1.14285714]\n",
      " [ 0.42857143  1.          0.71428571  1.          0.          0.\n",
      "   0.14285714  0.          0.42857143]\n",
      " [ 2.          3.          1.          9.          0.          0.\n",
      "   0.          1.          7.        ]\n",
      " [-3.         -4.         -1.          0.          0.          0.\n",
      "   0.          0.          0.        ]]\n",
      "[[ 0.14285714  0.          3.57142857  2.          1.          0.\n",
      "  -0.28571429  0.          0.14285714]\n",
      " [ 2.14285714  0.          2.57142857  1.          0.          1.\n",
      "  -0.28571429  0.          1.14285714]\n",
      " [ 0.42857143  1.          0.71428571  1.          0.          0.\n",
      "   0.14285714  0.          0.42857143]\n",
      " [ 0.71428571  0.         -1.14285714  6.          0.          0.\n",
      "  -0.42857143  1.          5.71428571]\n",
      " [-3.         -4.         -1.          0.          0.          0.\n",
      "   0.          0.          0.        ]]\n",
      "[[ 0.14285714  0.          3.57142857  2.          1.          0.\n",
      "  -0.28571429  0.          0.14285714]\n",
      " [ 2.14285714  0.          2.57142857  1.          0.          1.\n",
      "  -0.28571429  0.          1.14285714]\n",
      " [ 0.42857143  1.          0.71428571  1.          0.          0.\n",
      "   0.14285714  0.          0.42857143]\n",
      " [ 0.71428571  0.         -1.14285714  6.          0.          0.\n",
      "  -0.42857143  1.          5.71428571]\n",
      " [-1.28571429  0.          1.85714286  4.          0.          0.\n",
      "   0.57142857  0.          1.71428571]]\n",
      "[[ 0.          0.          3.4         1.93333333  1.         -0.06666667\n",
      "  -0.26666667  0.          0.06666667]\n",
      " [ 1.          0.          1.2         0.46666667  0.          0.46666667\n",
      "  -0.13333333  0.          0.53333333]\n",
      " [ 0.42857143  1.          0.71428571  1.          0.          0.\n",
      "   0.14285714  0.          0.42857143]\n",
      " [ 0.71428571  0.         -1.14285714  6.          0.          0.\n",
      "  -0.42857143  1.          5.71428571]\n",
      " [-1.28571429  0.          1.85714286  4.          0.          0.\n",
      "   0.57142857  0.          1.71428571]]\n",
      "[[ 0.          0.          3.4         1.93333333  1.         -0.06666667\n",
      "  -0.26666667  0.          0.06666667]\n",
      " [ 1.          0.          1.2         0.46666667  0.          0.46666667\n",
      "  -0.13333333  0.          0.53333333]\n",
      " [ 0.          1.          0.2         0.8         0.         -0.2\n",
      "   0.2         0.          0.2       ]\n",
      " [ 0.71428571  0.         -1.14285714  6.          0.          0.\n",
      "  -0.42857143  1.          5.71428571]\n",
      " [-1.28571429  0.          1.85714286  4.          0.          0.\n",
      "   0.57142857  0.          1.71428571]]\n",
      "[[ 0.          0.          3.4         1.93333333  1.         -0.06666667\n",
      "  -0.26666667  0.          0.06666667]\n",
      " [ 1.          0.          1.2         0.46666667  0.          0.46666667\n",
      "  -0.13333333  0.          0.53333333]\n",
      " [ 0.          1.          0.2         0.8         0.         -0.2\n",
      "   0.2         0.          0.2       ]\n",
      " [ 0.          0.         -2.          5.66666667  0.         -0.33333333\n",
      "  -0.33333333  1.          5.33333333]\n",
      " [-1.28571429  0.          1.85714286  4.          0.          0.\n",
      "   0.57142857  0.          1.71428571]]\n",
      "[[ 0.          0.          3.4         1.93333333  1.         -0.06666667\n",
      "  -0.26666667  0.          0.06666667]\n",
      " [ 1.          0.          1.2         0.46666667  0.          0.46666667\n",
      "  -0.13333333  0.          0.53333333]\n",
      " [ 0.          1.          0.2         0.8         0.         -0.2\n",
      "   0.2         0.          0.2       ]\n",
      " [ 0.          0.         -2.          5.66666667  0.         -0.33333333\n",
      "  -0.33333333  1.          5.33333333]\n",
      " [ 0.          0.          3.4         4.6         0.          0.6\n",
      "   0.4         0.          2.4       ]]\n",
      "The optimal solution is  [0.06666667 0.53333333 0.2        5.33333333]\n",
      "The objective functions value is  2.4\n"
     ]
    }
   ],
   "source": [
    "#simplex algorithm calculator \n",
    "# we need to probably use while loop to check if the last entries\n",
    "# in objective row are positive   \n",
    "z=np.array([[1.,2,5,4],[3,2,4,3],[3,7,5,7],[2,3,1,9]]) \n",
    "b=np.array([[1.],[2],[3],[7]])\n",
    "o=[-3.,-4,-1,0,0,0,0,0,0] \n",
    "tabl=np.vstack((np.hstack((Can(z),b)),o)) # this is our tableau\n",
    "m,n=tabl.shape\n",
    "print(tabl) \n",
    "while min(tabl[m-1]) < 0: # takes a product of non-basic variables to see if its positive \n",
    "    # assigns most negative number to variable  \n",
    "    v= min(tabl[m-1])\n",
    "    #print(v) \n",
    "    lm=lin(tabl[m-1],v) # gives index of minium entry in objective row \n",
    "   # print(lm)\n",
    "    r=[]\n",
    "    for e in range(m-1): \n",
    "        r.append(tabl[:m-1,n-1][e]/tabl[:m-1,lm][e]) #computes theta ratios\n",
    "        p = min(r)\n",
    "        if r[e] is p: \n",
    "            a=e  \n",
    "    piv(tabl,a,lm)   \n",
    "print('The optimal solution is ',tabl[:m-1,n-1]) \n",
    "print('The objective functions value is ',tabl[:,n-1][m-1])"
   ]
  },
  {
   "cell_type": "code",
   "execution_count": 174,
   "metadata": {},
   "outputs": [
    {
     "ename": "SyntaxError",
     "evalue": "invalid syntax (<ipython-input-174-419481bad1ae>, line 4)",
     "output_type": "error",
     "traceback": [
      "\u001b[0;36m  File \u001b[0;32m\"<ipython-input-174-419481bad1ae>\"\u001b[0;36m, line \u001b[0;32m4\u001b[0m\n\u001b[0;31m    L=\u001b[0m\n\u001b[0m      ^\u001b[0m\n\u001b[0;31mSyntaxError\u001b[0m\u001b[0;31m:\u001b[0m invalid syntax\n"
     ]
    }
   ],
   "source": [
    "print(z) \n",
    "print(Can(z))\n",
    "print(b) \n",
    "L=\n",
    "print(L)\n",
    "J=np.vstack((L,o))\n",
    "print(o) \n",
    "print(J)"
   ]
  },
  {
   "cell_type": "code",
   "execution_count": 115,
   "metadata": {},
   "outputs": [
    {
     "name": "stdout",
     "output_type": "stream",
     "text": [
      "[[-2.         -0.57142857  0.        ]\n",
      " [ 1.          0.85714286  1.        ]\n",
      " [ 4.          6.          8.        ]]\n",
      "[[-2.         -0.57142857  0.        ]\n",
      " [ 1.          0.85714286  1.        ]\n",
      " [-4.         -0.85714286  0.        ]]\n"
     ]
    }
   ],
   "source": [
    "km=np.array([[1.,2.,3],[7,6,7],[4,6,8]]) \n",
    "km[1] = km[1]/km[1][2] \n",
    "m,n=km.shape\n",
    "for i in range(m): \n",
    "    if i is not 1:\n",
    "        km[i]= -km[i][2]*km[1] + km[i] \n",
    "        print(km)"
   ]
  },
  {
   "cell_type": "code",
   "execution_count": 116,
   "metadata": {},
   "outputs": [],
   "source": [
    "def piv(km,a,b): \n",
    "    km[a] = km[a]/km[a][b] \n",
    "    m,n=km.shape\n",
    "    for i in range(m): \n",
    "        if i is not a:\n",
    "            km[i]= -km[i][b]*km[a] + km[i] \n",
    "            print(km)\n"
   ]
  }
 ],
 "metadata": {
  "kernelspec": {
   "display_name": "Python 3",
   "language": "python",
   "name": "python3"
  },
  "language_info": {
   "codemirror_mode": {
    "name": "ipython",
    "version": 3
   },
   "file_extension": ".py",
   "mimetype": "text/x-python",
   "name": "python",
   "nbconvert_exporter": "python",
   "pygments_lexer": "ipython3",
   "version": "3.6.5"
  }
 },
 "nbformat": 4,
 "nbformat_minor": 2
}
