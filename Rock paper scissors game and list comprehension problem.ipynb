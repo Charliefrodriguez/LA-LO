{
 "cells": [
  {
   "cell_type": "code",
   "execution_count": null,
   "metadata": {},
   "outputs": [],
   "source": [
    "k=[x**2 for x in range(1,11)] \n",
    "print(k)"
   ]
  },
  {
   "cell_type": "code",
   "execution_count": null,
   "metadata": {},
   "outputs": [],
   "source": [
    "set = []\n",
    "for i in k: \n",
    "    if i % 2 == 0: \n",
    "        set.append(i)  \n",
    "print(set)"
   ]
  },
  {
   "cell_type": "code",
   "execution_count": null,
   "metadata": {},
   "outputs": [],
   "source": [
    "k = [x**2 for x in range (1,11) if x % 2 == 0] \n",
    "print(k)"
   ]
  },
  {
   "cell_type": "code",
   "execution_count": 14,
   "metadata": {},
   "outputs": [
    {
     "name": "stdout",
     "output_type": "stream",
     "text": [
      "Would you like to play rock, paper, scissors? yes\n",
      "Choose rock, paper or scissors : rock\n",
      "player 2 paper\n",
      "Player 2 wins !\n",
      "want to play again? no\n"
     ]
    }
   ],
   "source": [
    "#implements random number generator as AI for choosing move\n",
    "import random as rnd \n",
    "offer = input( 'Would you like to play rock, paper, scissors? ') \n",
    "#asks play if they want to play\n",
    "while offer == 'yes': #loop that allows play to replay \n",
    "    cmpc = rnd.randrange(0,2,1)\n",
    "    p1 = input('Choose rock, paper or scissors : ')\n",
    "    \n",
    "    if cmpc == 0: \n",
    "        p2 == 'rock' \n",
    "    elif cmpc == 1: \n",
    "        p2== 'paper' \n",
    "    else: \n",
    "        p2== 'scissor' \n",
    "   \n",
    "    if p1 == 'rock'  and p2 == 'scissor' : # these represent all the options for each match\n",
    "        print('player 2',p2)\n",
    "        print('Player one wins !') \n",
    "    \n",
    "    elif p1 == 'scissor' and p2 == 'rock': \n",
    "        print('player 2',p2)\n",
    "        print('Player 2 wins !' )\n",
    "    \n",
    "    elif p1 == p2: \n",
    "        print('player 2',p2)\n",
    "        print('Draw!') \n",
    "    \n",
    "    elif p1 == 'paper' and p2 == 'rock': \n",
    "        print('player 2',p2)\n",
    "        print('Player 1 wins !' ) \n",
    "    \n",
    "    elif p1 == 'rock' and p2 == 'paper': \n",
    "        print('player 2',p2)\n",
    "        print('Player 2 wins !' ) \n",
    "    \n",
    "    elif p1 == 'scissors' and p2 == 'paper': \n",
    "        print('player 2',p2)\n",
    "        print('Player 1 wins !' )\n",
    "    \n",
    "    elif p1 == 'paper' and p2 == 'scissors': \n",
    "        print('player 2',p2)\n",
    "        print('Player 2 wins !' )\n",
    "    \n",
    "    replay = input('want to play again? ')  # prompt to ask if they players want to play again\n",
    "    if replay == 'yes':  # if they say yes then replay refers to the offer which is the  \n",
    "        replay = offer  # argument for the loop\n",
    "    else: \n",
    "        break #if player says no to another game this stops the loop"
   ]
  },
  {
   "cell_type": "code",
   "execution_count": 1,
   "metadata": {},
   "outputs": [
    {
     "name": "stdout",
     "output_type": "stream",
     "text": [
      "Would you like to play rock, paper, scissors? yes\n",
      "Choose rock, paper or scissors : rock\n",
      "Choose rock, paper or scissors : paper\n",
      "Player 2 wins !\n",
      "want to play again? no\n"
     ]
    }
   ],
   "source": [
    "#Rock Paper Scissors game.  \n",
    "                                # p1 and p2 are player one and player 2\n",
    "\n",
    "offer = input( 'Would you like to play rock, paper, scissors? ') \n",
    "#asks play if they want to play\n",
    "while offer == 'yes': #loop that allows play to replay \n",
    "    p1 = input('Choose rock, paper or scissors : ')\n",
    "    p2 = input ('Choose rock, paper or scissors : ')   \n",
    "   \n",
    "    if p1 == 'rock'  and p2 == 'scissor' : # these represent all the options for each match\n",
    "        print('Player one wins !') \n",
    "    \n",
    "    elif p1 == 'scissor' and p2 == 'rock': \n",
    "        print('Player 2 wins !' )\n",
    "    \n",
    "    elif p1 == p2: \n",
    "        print('Draw!') \n",
    "    \n",
    "    elif p1 == 'paper' and p2 == 'rock': \n",
    "        print('Player 1 wins !' ) \n",
    "    \n",
    "    elif p1 == 'rock' and p2 == 'paper': \n",
    "        print('Player 2 wins !' ) \n",
    "    \n",
    "    elif p1 == 'scissors' and p2 == 'paper': \n",
    "        print('Player 1 wins !' )\n",
    "    \n",
    "    elif p1 == 'paper' and p2 == 'scissors': \n",
    "        print('Player 2 wins !' )\n",
    "    \n",
    "    replay = input('want to play again? ')  # prompt to ask if they players want to play again\n",
    "    if replay == 'yes':  # if they say yes then replay refers to the offer which is the  \n",
    "        replay = offer  # argument for the loop\n",
    "    else: \n",
    "        break #if player says no to another game this stops the loop"
   ]
  },
  {
   "cell_type": "code",
   "execution_count": null,
   "metadata": {},
   "outputs": [],
   "source": [
    "person = input('Enter your name: ')\n",
    "print('Hello', person)"
   ]
  },
  {
   "cell_type": "code",
   "execution_count": 11,
   "metadata": {},
   "outputs": [
    {
     "data": {
      "text/plain": [
       "0"
      ]
     },
     "execution_count": 11,
     "metadata": {},
     "output_type": "execute_result"
    }
   ],
   "source": []
  },
  {
   "cell_type": "code",
   "execution_count": null,
   "metadata": {},
   "outputs": [],
   "source": []
  }
 ],
 "metadata": {
  "kernelspec": {
   "display_name": "Python 3",
   "language": "python",
   "name": "python3"
  },
  "language_info": {
   "codemirror_mode": {
    "name": "ipython",
    "version": 3
   },
   "file_extension": ".py",
   "mimetype": "text/x-python",
   "name": "python",
   "nbconvert_exporter": "python",
   "pygments_lexer": "ipython3",
   "version": "3.6.5"
  }
 },
 "nbformat": 4,
 "nbformat_minor": 2
}
